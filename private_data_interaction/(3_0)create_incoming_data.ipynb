{
 "cells": [
  {
   "cell_type": "code",
   "execution_count": 1,
   "metadata": {},
   "outputs": [],
   "source": [
    "import pandas as pd"
   ]
  },
  {
   "cell_type": "code",
   "execution_count": 2,
   "metadata": {},
   "outputs": [],
   "source": [
    "# Correct CSV Data\n",
    "correct_data = {\n",
    "    \"Name\": [\"Alice\", \"Bob\", \"Charlie\"],\n",
    "    \"Age\": [25, 30, 35],\n",
    "    \"City\": [\"New York\", \"Los Angeles\", \"Chicago\"]\n",
    "}\n",
    "correct_df = pd.DataFrame(correct_data)\n",
    "correct_file_path = \"test_upload_data/correct_csv.csv\"\n",
    "correct_df.to_csv(correct_file_path, index=False)\n",
    "\n",
    "# Incorrect CSV Data (Inconsistent row lengths)\n",
    "incorrect_data = [\n",
    "    [\"Name\", \"Age\", \"City\"],\n",
    "    [\"Alice\", 25, \"New York\"],\n",
    "    [\"Bob\", 30],  # Missing one column\n",
    "    [\"Charlie\", 35, \"Chicago\"]\n",
    "]\n",
    "incorrect_file_path = \"test_upload_data/incorrect_csv.csv\"\n",
    "with open(incorrect_file_path, \"w\") as f:\n",
    "    for row in incorrect_data:\n",
    "        f.write(\",\".join(map(str, row)) + \"\\n\")"
   ]
  }
 ],
 "metadata": {
  "kernelspec": {
   "display_name": "private-data-interaction-LmaFhjpX-py3.10",
   "language": "python",
   "name": "python3"
  },
  "language_info": {
   "codemirror_mode": {
    "name": "ipython",
    "version": 3
   },
   "file_extension": ".py",
   "mimetype": "text/x-python",
   "name": "python",
   "nbconvert_exporter": "python",
   "pygments_lexer": "ipython3",
   "version": "3.10.12"
  }
 },
 "nbformat": 4,
 "nbformat_minor": 2
}
