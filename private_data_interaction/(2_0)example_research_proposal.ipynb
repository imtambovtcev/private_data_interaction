{
 "cells": [
  {
   "cell_type": "code",
   "execution_count": 1,
   "metadata": {},
   "outputs": [],
   "source": [
    "import pandas as pd\n",
    "import numpy as np\n",
    "import matplotlib.pyplot as plt\n",
    "import json\n",
    "from io import StringIO"
   ]
  },
  {
   "cell_type": "code",
   "execution_count": 2,
   "metadata": {},
   "outputs": [],
   "source": [
    "import json\n",
    "import pandas as pd\n",
    "import numpy as np\n",
    "\n",
    "\n",
    "class DataSpace:\n",
    "    def __init__(self, min_bin_population=10):\n",
    "        self.data = {}\n",
    "        self.metadata = {}\n",
    "        self.min_bin_population = min_bin_population\n",
    "\n",
    "    def create_user_space(self, df_name_list):\n",
    "        space = DataSpace(min_bin_population=self.min_bin_population)\n",
    "        for df_name in df_name_list:\n",
    "            space.data[df_name] = self.data[df_name]\n",
    "            space.metadata[df_name] = self.metadata[df_name]\n",
    "\n",
    "        return space\n",
    "\n",
    "    ### df_methods ###\n",
    "\n",
    "    def copy_df(self, df_name, new_df_name):\n",
    "        if new_df_name in self.data:\n",
    "            return 'A dataframe with that name already exists, aborting.'\n",
    "\n",
    "        self.data[new_df_name] = self.data[df_name].copy()\n",
    "        # Deep copy metadata dictionary to avoid references\n",
    "        self.metadata[new_df_name] = {\n",
    "            'columns': {col_name: col_meta.copy() for col_name, col_meta in self.metadata[df_name]['columns'].items()}\n",
    "        }\n",
    "\n",
    "        return 'Operation successful.'\n",
    "\n",
    "    def drop_df(self, df_name):\n",
    "        del self.data[df_name]\n",
    "        del self.metadata[df_name]\n",
    "        return 'Operation successful.'\n",
    "\n",
    "    def drop_column(self, df_name, column):\n",
    "        self.data[df_name].drop(column, axis=1, inplace=True)\n",
    "        # Remove the column from the metadata dictionary\n",
    "        if column in self.metadata[df_name]['columns']:\n",
    "            del self.metadata[df_name]['columns'][column]\n",
    "        return 'Operation successful.'\n",
    "\n",
    "    def filter_df(self, df_name, column, value):\n",
    "        df = self.data[df_name][self.data[df_name][column] == value]\n",
    "        if len(df) < self.min_bin_population:\n",
    "            return 'Operation would result in a dataframe with less than the minimum bin population, aborting.'\n",
    "        else:\n",
    "            self.data[df_name] = df\n",
    "            return 'Operation successful.'\n",
    "\n",
    "    def merge_df(self, left_df_name, right_df_name, on, new_df_name, how='inner'):\n",
    "        # Check if the new dataframe name is already used\n",
    "        if new_df_name in self.data:\n",
    "            return 'A dataframe with that name already exists, aborting.'\n",
    "\n",
    "        # Check that both dataframes exist\n",
    "        if left_df_name not in self.data or right_df_name not in self.data:\n",
    "            return 'One or both of the specified dataframes do not exist, aborting.'\n",
    "\n",
    "        # Perform the merge operation\n",
    "        merged_df = self.data[left_df_name].merge(\n",
    "            self.data[right_df_name], on=on, how=how)\n",
    "\n",
    "        # Check the size of the merged dataframe\n",
    "        if len(merged_df) < self.min_bin_population:\n",
    "            return 'Operation would result in a dataframe with less than the minimum bin population, aborting.'\n",
    "\n",
    "        # Combine metadata from both dataframes\n",
    "        left_metadata_cols = self.metadata[left_df_name]['columns']\n",
    "        right_metadata_cols = self.metadata[right_df_name]['columns']\n",
    "\n",
    "        combined_metadata = {}\n",
    "        for col_name in merged_df.columns:\n",
    "            if col_name in left_metadata_cols:\n",
    "                combined_metadata[col_name] = left_metadata_cols[col_name]\n",
    "            elif col_name in right_metadata_cols:\n",
    "                combined_metadata[col_name] = right_metadata_cols[col_name]\n",
    "            else:\n",
    "                # If the column doesn't appear in either metadata,\n",
    "                # create a default metadata entry for it.\n",
    "                combined_metadata[col_name] = {\n",
    "                    \"type\": \"unknown\",\n",
    "                    \"description\": \"No metadata found.\"\n",
    "                }\n",
    "\n",
    "        # Store the merged data and metadata\n",
    "        self.data[new_df_name] = merged_df\n",
    "        self.metadata[new_df_name] = {\n",
    "            'columns': combined_metadata\n",
    "        }\n",
    "\n",
    "        return 'Operation successful.'\n",
    "\n",
    "    def rename_column(self, df_name, old_column, new_column):\n",
    "        if new_column in self.data[df_name].columns:\n",
    "            return 'A column with that name already exists, aborting.'\n",
    "\n",
    "        self.data[df_name].rename(\n",
    "            columns={old_column: new_column}, inplace=True)\n",
    "\n",
    "        # Update the metadata dictionary keys\n",
    "        if old_column in self.metadata[df_name]['columns']:\n",
    "            col_data = self.metadata[df_name]['columns'].pop(old_column)\n",
    "            self.metadata[df_name]['columns'][new_column] = col_data\n",
    "\n",
    "        return 'Operation successful.'\n",
    "\n",
    "    ######\n",
    "\n",
    "    def add_data_from_data_and_metadata_files(self, df_name, data_file, metadata_file):\n",
    "        with open(metadata_file) as f:\n",
    "            metadata = json.load(f)\n",
    "            self.metadata[df_name] = metadata\n",
    "\n",
    "        df = pd.read_csv(data_file)\n",
    "        self.data[df_name] = df\n",
    "\n",
    "    @property\n",
    "    def sources(self):\n",
    "        return list(self.data.keys())\n",
    "\n",
    "    def columns(self, source):\n",
    "        if source not in self.data:\n",
    "            return None\n",
    "\n",
    "        return self.data[source].columns\n",
    "\n",
    "    def _distribution_of(self, df, column, bin_ranges=None):\n",
    "        if column not in df.columns:\n",
    "            return None\n",
    "\n",
    "        valid_data = df[column].dropna()\n",
    "\n",
    "        if bin_ranges is None:\n",
    "            bin_ranges = np.histogram_bin_edges(valid_data, bins='auto')\n",
    "\n",
    "        distribution_counts, bin_edges = np.histogram(\n",
    "            valid_data, bins=bin_ranges)\n",
    "\n",
    "        distribution_df = pd.DataFrame({\n",
    "            'Bin Range': [f\"{bin_edges[i]} - {bin_edges[i + 1]}\" for i in range(len(bin_edges) - 1)],\n",
    "            'Count': distribution_counts\n",
    "        })\n",
    "\n",
    "        distribution_df.loc[distribution_df['Count']\n",
    "                            < self.min_bin_population, 'Count'] = 0\n",
    "\n",
    "        return distribution_df\n",
    "\n",
    "    def request_distribution_of(self, source, column, bin_ranges=None):\n",
    "        if source not in self.data:\n",
    "            return None\n",
    "\n",
    "        df = self.data[source]\n",
    "        distribution_df = self._distribution_of(df, column, bin_ranges)\n",
    "        return distribution_df.to_json()\n",
    "\n",
    "    def request_metadata(self, source):\n",
    "        if source not in self.metadata:\n",
    "            return None\n",
    "\n",
    "        return self.metadata[source]\n",
    "\n",
    "    def _column_metadata(self, source, column):\n",
    "        if source not in self.metadata:\n",
    "            return None\n",
    "\n",
    "        return self.metadata[source]['columns'].get(column, None)\n",
    "\n",
    "    def request_column_metadata(self, source, column):\n",
    "        return self._column_metadata(source, column)\n",
    "\n",
    "    def request_is_column_standard_unique_identifier(self, source, column):\n",
    "        metadata = self._column_metadata(source, column)\n",
    "        return metadata.get('is_standard_unique_identifier', False) if metadata else False\n",
    "\n",
    "    def request_length_of_df(self, source):\n",
    "        return len(self.data[source])\n",
    "\n",
    "    def info(self):\n",
    "        for source in self.sources:\n",
    "            print(f\"Source: {source}\")\n",
    "            print(f\"Columns: {self.columns(source)}\")\n",
    "            print(f\"Length: {self.request_length_of_df(source)}\")\n",
    "            print(f\"Metadata: {self.request_metadata(source)}\")\n",
    "            print()"
   ]
  },
  {
   "cell_type": "code",
   "execution_count": 3,
   "metadata": {},
   "outputs": [],
   "source": [
    "hagstofa_data = DataSpace()\n",
    "hagstofa_data.add_data_from_data_and_metadata_files(\n",
    "    'hagstofa', 'hagstofa_data.csv', 'hagstofa_metadata.json')\n",
    "hagstofa_data.add_data_from_data_and_metadata_files(\n",
    "    'medical', 'medical_data.csv', 'medical_metadata.json')"
   ]
  },
  {
   "cell_type": "code",
   "execution_count": 4,
   "metadata": {},
   "outputs": [
    {
     "name": "stdout",
     "output_type": "stream",
     "text": [
      "Hagstofa columns: Index(['Name', 'Age', 'Gender', 'Birth Date', 'Kennitala', 'Income', 'Email'], dtype='object')\n",
      "length of hagstofa data: 13308\n",
      "Medical columns: Index(['Name', 'Age', 'Gender', 'Birth Date', 'Kennitala', 'Gout', 'Obesity',\n",
      "       'Stress-Related Disorders', 'Cardiovascular Diseases',\n",
      "       'Eating Disorders', 'Addiction', 'Rare Genetic Disease',\n",
      "       'Common Allergies', 'Hereditary Condition', 'patient_id'],\n",
      "      dtype='object')\n",
      "length of medical data: 5000\n"
     ]
    }
   ],
   "source": [
    "print(f'Hagstofa columns: {hagstofa_data.columns(\"hagstofa\")}')\n",
    "print(\n",
    "    f\"length of hagstofa data: {hagstofa_data.request_length_of_df('hagstofa')}\")\n",
    "print(f'Medical columns: {hagstofa_data.columns(\"medical\")}')\n",
    "print(\n",
    "    f\"length of medical data: {hagstofa_data.request_length_of_df('medical')}\")"
   ]
  },
  {
   "cell_type": "code",
   "execution_count": 5,
   "metadata": {},
   "outputs": [
    {
     "name": "stdout",
     "output_type": "stream",
     "text": [
      "Hagstofa metadata: {'dataset_name': 'Sample Personal Information Dataset', 'description': 'This dataset contains personal details of individuals, including name, age, gender, birth date, identification number (kennitala), income, and email address.', 'columns': {'Name': {'type': 'string', 'description': 'Full name of the individual, including first and last name.'}, 'Age': {'type': 'float', 'description': 'Age of the individual in years, expressed with decimal precision.'}, 'Gender': {'type': 'string', 'description': 'Gender of the individual (e.g., Male, Female).'}, 'Birth Date': {'type': 'date', 'format': 'YYYY-MM-DD', 'description': 'Birth date of the individual in ISO format.'}, 'Kennitala': {'type': 'string', 'is_standard_unique_identifier': True, 'description': 'Icelandic national identification number for the individual, unique to each person.'}, 'Income': {'type': 'float', 'description': 'Yearly income of the individual in thousands ISK, expressed as a floating-point number.'}, 'Email': {'type': 'string', 'description': 'Email address of the individual.'}}, 'source': 'Hagstofa', 'notes': ['All values are anonymized and randomly generated.', 'Ages are provided with high decimal precision, indicating detailed fractional years.']}\n",
      "Hagstofa income metadata: {'type': 'float', 'description': 'Yearly income of the individual in thousands ISK, expressed as a floating-point number.'}\n",
      "Hagstofa Kennitala metadata: {'type': 'string', 'is_standard_unique_identifier': True, 'description': 'Icelandic national identification number for the individual, unique to each person.'}\n",
      "Hagstofa Kennitala is standard unique identifier: True\n",
      "Medical Kennitala is standard unique identifier: True\n"
     ]
    }
   ],
   "source": [
    "print(f'Hagstofa metadata: {hagstofa_data.request_metadata(\"hagstofa\")}')\n",
    "print(\n",
    "    f\"Hagstofa income metadata: {hagstofa_data.request_column_metadata('hagstofa', 'Income')}\")\n",
    "\n",
    "print(\n",
    "    f\"Hagstofa Kennitala metadata: {hagstofa_data.request_column_metadata('hagstofa', 'Kennitala')}\")\n",
    "print(\n",
    "    f\"Hagstofa Kennitala is standard unique identifier: {hagstofa_data.request_is_column_standard_unique_identifier('hagstofa', 'Kennitala')}\")\n",
    "print(\n",
    "    f\"Medical Kennitala is standard unique identifier: {hagstofa_data.request_is_column_standard_unique_identifier('medical', 'Kennitala')}\")"
   ]
  },
  {
   "cell_type": "code",
   "execution_count": 6,
   "metadata": {},
   "outputs": [
    {
     "data": {
      "text/html": [
       "<div>\n",
       "<style scoped>\n",
       "    .dataframe tbody tr th:only-of-type {\n",
       "        vertical-align: middle;\n",
       "    }\n",
       "\n",
       "    .dataframe tbody tr th {\n",
       "        vertical-align: top;\n",
       "    }\n",
       "\n",
       "    .dataframe thead th {\n",
       "        text-align: right;\n",
       "    }\n",
       "</style>\n",
       "<table border=\"1\" class=\"dataframe\">\n",
       "  <thead>\n",
       "    <tr style=\"text-align: right;\">\n",
       "      <th></th>\n",
       "      <th>Bin Range</th>\n",
       "      <th>Count</th>\n",
       "    </tr>\n",
       "  </thead>\n",
       "  <tbody>\n",
       "    <tr>\n",
       "      <th>0</th>\n",
       "      <td>0.0 - 1000.0</td>\n",
       "      <td>0</td>\n",
       "    </tr>\n",
       "    <tr>\n",
       "      <th>1</th>\n",
       "      <td>1000.0 - 2000.0</td>\n",
       "      <td>442</td>\n",
       "    </tr>\n",
       "    <tr>\n",
       "      <th>2</th>\n",
       "      <td>2000.0 - 3000.0</td>\n",
       "      <td>655</td>\n",
       "    </tr>\n",
       "    <tr>\n",
       "      <th>3</th>\n",
       "      <td>3000.0 - 4000.0</td>\n",
       "      <td>670</td>\n",
       "    </tr>\n",
       "    <tr>\n",
       "      <th>4</th>\n",
       "      <td>4000.0 - 5000.0</td>\n",
       "      <td>702</td>\n",
       "    </tr>\n",
       "    <tr>\n",
       "      <th>5</th>\n",
       "      <td>5000.0 - 6000.0</td>\n",
       "      <td>1001</td>\n",
       "    </tr>\n",
       "    <tr>\n",
       "      <th>6</th>\n",
       "      <td>6000.0 - 7000.0</td>\n",
       "      <td>1512</td>\n",
       "    </tr>\n",
       "    <tr>\n",
       "      <th>7</th>\n",
       "      <td>7000.0 - 8000.0</td>\n",
       "      <td>2014</td>\n",
       "    </tr>\n",
       "    <tr>\n",
       "      <th>8</th>\n",
       "      <td>8000.0 - 9000.0</td>\n",
       "      <td>2359</td>\n",
       "    </tr>\n",
       "    <tr>\n",
       "      <th>9</th>\n",
       "      <td>9000.0 - 10000.0</td>\n",
       "      <td>2175</td>\n",
       "    </tr>\n",
       "    <tr>\n",
       "      <th>10</th>\n",
       "      <td>10000.0 - 11000.0</td>\n",
       "      <td>1294</td>\n",
       "    </tr>\n",
       "    <tr>\n",
       "      <th>11</th>\n",
       "      <td>11000.0 - 12000.0</td>\n",
       "      <td>394</td>\n",
       "    </tr>\n",
       "    <tr>\n",
       "      <th>12</th>\n",
       "      <td>12000.0 - 13000.0</td>\n",
       "      <td>82</td>\n",
       "    </tr>\n",
       "    <tr>\n",
       "      <th>13</th>\n",
       "      <td>13000.0 - 14000.0</td>\n",
       "      <td>0</td>\n",
       "    </tr>\n",
       "    <tr>\n",
       "      <th>14</th>\n",
       "      <td>14000.0 - 15000.0</td>\n",
       "      <td>0</td>\n",
       "    </tr>\n",
       "    <tr>\n",
       "      <th>15</th>\n",
       "      <td>15000.0 - 16000.0</td>\n",
       "      <td>0</td>\n",
       "    </tr>\n",
       "    <tr>\n",
       "      <th>16</th>\n",
       "      <td>16000.0 - 17000.0</td>\n",
       "      <td>0</td>\n",
       "    </tr>\n",
       "    <tr>\n",
       "      <th>17</th>\n",
       "      <td>17000.0 - 18000.0</td>\n",
       "      <td>0</td>\n",
       "    </tr>\n",
       "    <tr>\n",
       "      <th>18</th>\n",
       "      <td>18000.0 - 19000.0</td>\n",
       "      <td>0</td>\n",
       "    </tr>\n",
       "    <tr>\n",
       "      <th>19</th>\n",
       "      <td>19000.0 - 20000.0</td>\n",
       "      <td>0</td>\n",
       "    </tr>\n",
       "  </tbody>\n",
       "</table>\n",
       "</div>"
      ],
      "text/plain": [
       "            Bin Range  Count\n",
       "0        0.0 - 1000.0      0\n",
       "1     1000.0 - 2000.0    442\n",
       "2     2000.0 - 3000.0    655\n",
       "3     3000.0 - 4000.0    670\n",
       "4     4000.0 - 5000.0    702\n",
       "5     5000.0 - 6000.0   1001\n",
       "6     6000.0 - 7000.0   1512\n",
       "7     7000.0 - 8000.0   2014\n",
       "8     8000.0 - 9000.0   2359\n",
       "9    9000.0 - 10000.0   2175\n",
       "10  10000.0 - 11000.0   1294\n",
       "11  11000.0 - 12000.0    394\n",
       "12  12000.0 - 13000.0     82\n",
       "13  13000.0 - 14000.0      0\n",
       "14  14000.0 - 15000.0      0\n",
       "15  15000.0 - 16000.0      0\n",
       "16  16000.0 - 17000.0      0\n",
       "17  17000.0 - 18000.0      0\n",
       "18  18000.0 - 19000.0      0\n",
       "19  19000.0 - 20000.0      0"
      ]
     },
     "metadata": {},
     "output_type": "display_data"
    }
   ],
   "source": [
    "income_bins = np.linspace(0, 20000, 21)  # 20 bins between 0 and 20,000\n",
    "full_income_distribution = hagstofa_data.request_distribution_of(\n",
    "    'hagstofa', 'Income', bin_ranges=income_bins)\n",
    "full_income_distribution_df = pd.read_json(StringIO(full_income_distribution))\n",
    "display(full_income_distribution_df)"
   ]
  },
  {
   "cell_type": "code",
   "execution_count": 7,
   "metadata": {},
   "outputs": [
    {
     "name": "stdout",
     "output_type": "stream",
     "text": [
      "Source: hagstofa\n",
      "Columns: Index(['Name', 'Age', 'Gender', 'Birth Date', 'Kennitala', 'Income', 'Email'], dtype='object')\n",
      "Length: 13308\n",
      "Metadata: {'dataset_name': 'Sample Personal Information Dataset', 'description': 'This dataset contains personal details of individuals, including name, age, gender, birth date, identification number (kennitala), income, and email address.', 'columns': {'Name': {'type': 'string', 'description': 'Full name of the individual, including first and last name.'}, 'Age': {'type': 'float', 'description': 'Age of the individual in years, expressed with decimal precision.'}, 'Gender': {'type': 'string', 'description': 'Gender of the individual (e.g., Male, Female).'}, 'Birth Date': {'type': 'date', 'format': 'YYYY-MM-DD', 'description': 'Birth date of the individual in ISO format.'}, 'Kennitala': {'type': 'string', 'is_standard_unique_identifier': True, 'description': 'Icelandic national identification number for the individual, unique to each person.'}, 'Income': {'type': 'float', 'description': 'Yearly income of the individual in thousands ISK, expressed as a floating-point number.'}, 'Email': {'type': 'string', 'description': 'Email address of the individual.'}}, 'source': 'Hagstofa', 'notes': ['All values are anonymized and randomly generated.', 'Ages are provided with high decimal precision, indicating detailed fractional years.']}\n",
      "\n",
      "Source: medical\n",
      "Columns: Index(['Name', 'Age', 'Gender', 'Birth Date', 'Kennitala', 'Gout', 'Obesity',\n",
      "       'Stress-Related Disorders', 'Cardiovascular Diseases',\n",
      "       'Eating Disorders', 'Addiction', 'Rare Genetic Disease',\n",
      "       'Common Allergies', 'Hereditary Condition', 'patient_id'],\n",
      "      dtype='object')\n",
      "Length: 5000\n",
      "Metadata: {'dataset_name': 'Patient Health Records Dataset', 'description': 'This dataset contains health-related data of patients, including personal details, diagnoses, and health conditions.', 'columns': {'Name': {'type': 'string', 'description': 'Full name of the patient, including first and last name.'}, 'Age': {'type': 'float', 'description': 'Age of the patient in years, expressed with decimal precision.'}, 'Gender': {'type': 'string', 'description': 'Gender of the patient (e.g., Male, Female).'}, 'Birth Date': {'type': 'date', 'format': 'YYYY-MM-DD', 'description': 'Birth date of the patient in ISO format.'}, 'Kennitala': {'type': 'string', 'is_standard_unique_identifier': True, 'description': 'Icelandic national identification number for the patient, unique to each individual.'}, 'Gout': {'type': 'boolean', 'description': 'Indicates whether the patient has been diagnosed with gout (True/False).'}, 'Obesity': {'type': 'boolean', 'description': 'Indicates whether the patient has been diagnosed with obesity (True/False).'}, 'Stress-Related Disorders': {'type': 'boolean', 'description': 'Indicates whether the patient has been diagnosed with stress-related disorders (True/False).'}, 'Cardiovascular Diseases': {'type': 'boolean', 'description': 'Indicates whether the patient has been diagnosed with cardiovascular diseases (True/False).'}, 'Eating Disorders': {'type': 'boolean', 'description': 'Indicates whether the patient has been diagnosed with eating disorders (True/False).'}, 'Addiction': {'type': 'boolean', 'description': 'Indicates whether the patient has been diagnosed with addiction (True/False).'}, 'Rare Genetic Disease': {'type': 'boolean', 'description': 'Indicates whether the patient has been diagnosed with a rare genetic disease (True/False).'}, 'Common Allergies': {'type': 'boolean', 'description': 'Indicates whether the patient has common allergies (True/False).'}, 'Hereditary Condition': {'type': 'boolean', 'description': 'Indicates whether the patient has a hereditary condition (True/False).'}, 'patient_id': {'type': 'integer', 'description': 'Internal medical institution identifier for the patient, unique to each individual.'}}, 'source': 'Medical Institution', 'notes': ['All values are anonymized and randomly generated.', 'Ages are provided with high decimal precision, indicating detailed fractional years.']}\n",
      "\n"
     ]
    }
   ],
   "source": [
    "user_space = hagstofa_data.create_user_space(['hagstofa', 'medical'])\n",
    "user_space.info()"
   ]
  },
  {
   "cell_type": "code",
   "execution_count": 8,
   "metadata": {},
   "outputs": [
    {
     "data": {
      "text/plain": [
       "'Operation successful.'"
      ]
     },
     "execution_count": 8,
     "metadata": {},
     "output_type": "execute_result"
    }
   ],
   "source": [
    "user_space.copy_df('medical', 'research')"
   ]
  },
  {
   "cell_type": "code",
   "execution_count": 9,
   "metadata": {},
   "outputs": [
    {
     "name": "stdout",
     "output_type": "stream",
     "text": [
      "Source: hagstofa\n",
      "Columns: Index(['Name', 'Age', 'Gender', 'Birth Date', 'Kennitala', 'Income', 'Email'], dtype='object')\n",
      "Length: 13308\n",
      "Metadata: {'dataset_name': 'Sample Personal Information Dataset', 'description': 'This dataset contains personal details of individuals, including name, age, gender, birth date, identification number (kennitala), income, and email address.', 'columns': {'Name': {'type': 'string', 'description': 'Full name of the individual, including first and last name.'}, 'Age': {'type': 'float', 'description': 'Age of the individual in years, expressed with decimal precision.'}, 'Gender': {'type': 'string', 'description': 'Gender of the individual (e.g., Male, Female).'}, 'Birth Date': {'type': 'date', 'format': 'YYYY-MM-DD', 'description': 'Birth date of the individual in ISO format.'}, 'Kennitala': {'type': 'string', 'is_standard_unique_identifier': True, 'description': 'Icelandic national identification number for the individual, unique to each person.'}, 'Income': {'type': 'float', 'description': 'Yearly income of the individual in thousands ISK, expressed as a floating-point number.'}, 'Email': {'type': 'string', 'description': 'Email address of the individual.'}}, 'source': 'Hagstofa', 'notes': ['All values are anonymized and randomly generated.', 'Ages are provided with high decimal precision, indicating detailed fractional years.']}\n",
      "\n",
      "Source: medical\n",
      "Columns: Index(['Name', 'Age', 'Gender', 'Birth Date', 'Kennitala', 'Gout', 'Obesity',\n",
      "       'Stress-Related Disorders', 'Cardiovascular Diseases',\n",
      "       'Eating Disorders', 'Addiction', 'Rare Genetic Disease',\n",
      "       'Common Allergies', 'Hereditary Condition', 'patient_id'],\n",
      "      dtype='object')\n",
      "Length: 5000\n",
      "Metadata: {'dataset_name': 'Patient Health Records Dataset', 'description': 'This dataset contains health-related data of patients, including personal details, diagnoses, and health conditions.', 'columns': {'Name': {'type': 'string', 'description': 'Full name of the patient, including first and last name.'}, 'Age': {'type': 'float', 'description': 'Age of the patient in years, expressed with decimal precision.'}, 'Gender': {'type': 'string', 'description': 'Gender of the patient (e.g., Male, Female).'}, 'Birth Date': {'type': 'date', 'format': 'YYYY-MM-DD', 'description': 'Birth date of the patient in ISO format.'}, 'Kennitala': {'type': 'string', 'is_standard_unique_identifier': True, 'description': 'Icelandic national identification number for the patient, unique to each individual.'}, 'Gout': {'type': 'boolean', 'description': 'Indicates whether the patient has been diagnosed with gout (True/False).'}, 'Obesity': {'type': 'boolean', 'description': 'Indicates whether the patient has been diagnosed with obesity (True/False).'}, 'Stress-Related Disorders': {'type': 'boolean', 'description': 'Indicates whether the patient has been diagnosed with stress-related disorders (True/False).'}, 'Cardiovascular Diseases': {'type': 'boolean', 'description': 'Indicates whether the patient has been diagnosed with cardiovascular diseases (True/False).'}, 'Eating Disorders': {'type': 'boolean', 'description': 'Indicates whether the patient has been diagnosed with eating disorders (True/False).'}, 'Addiction': {'type': 'boolean', 'description': 'Indicates whether the patient has been diagnosed with addiction (True/False).'}, 'Rare Genetic Disease': {'type': 'boolean', 'description': 'Indicates whether the patient has been diagnosed with a rare genetic disease (True/False).'}, 'Common Allergies': {'type': 'boolean', 'description': 'Indicates whether the patient has common allergies (True/False).'}, 'Hereditary Condition': {'type': 'boolean', 'description': 'Indicates whether the patient has a hereditary condition (True/False).'}, 'patient_id': {'type': 'integer', 'description': 'Internal medical institution identifier for the patient, unique to each individual.'}}, 'source': 'Medical Institution', 'notes': ['All values are anonymized and randomly generated.', 'Ages are provided with high decimal precision, indicating detailed fractional years.']}\n",
      "\n",
      "Source: research\n",
      "Columns: Index(['Name', 'Age', 'Gender', 'Birth Date', 'Kennitala', 'Gout', 'Obesity',\n",
      "       'Stress-Related Disorders', 'Cardiovascular Diseases',\n",
      "       'Eating Disorders', 'Addiction', 'Rare Genetic Disease',\n",
      "       'Common Allergies', 'Hereditary Condition', 'patient_id'],\n",
      "      dtype='object')\n",
      "Length: 5000\n",
      "Metadata: {'columns': {'Name': {'type': 'string', 'description': 'Full name of the patient, including first and last name.'}, 'Age': {'type': 'float', 'description': 'Age of the patient in years, expressed with decimal precision.'}, 'Gender': {'type': 'string', 'description': 'Gender of the patient (e.g., Male, Female).'}, 'Birth Date': {'type': 'date', 'format': 'YYYY-MM-DD', 'description': 'Birth date of the patient in ISO format.'}, 'Kennitala': {'type': 'string', 'is_standard_unique_identifier': True, 'description': 'Icelandic national identification number for the patient, unique to each individual.'}, 'Gout': {'type': 'boolean', 'description': 'Indicates whether the patient has been diagnosed with gout (True/False).'}, 'Obesity': {'type': 'boolean', 'description': 'Indicates whether the patient has been diagnosed with obesity (True/False).'}, 'Stress-Related Disorders': {'type': 'boolean', 'description': 'Indicates whether the patient has been diagnosed with stress-related disorders (True/False).'}, 'Cardiovascular Diseases': {'type': 'boolean', 'description': 'Indicates whether the patient has been diagnosed with cardiovascular diseases (True/False).'}, 'Eating Disorders': {'type': 'boolean', 'description': 'Indicates whether the patient has been diagnosed with eating disorders (True/False).'}, 'Addiction': {'type': 'boolean', 'description': 'Indicates whether the patient has been diagnosed with addiction (True/False).'}, 'Rare Genetic Disease': {'type': 'boolean', 'description': 'Indicates whether the patient has been diagnosed with a rare genetic disease (True/False).'}, 'Common Allergies': {'type': 'boolean', 'description': 'Indicates whether the patient has common allergies (True/False).'}, 'Hereditary Condition': {'type': 'boolean', 'description': 'Indicates whether the patient has a hereditary condition (True/False).'}, 'patient_id': {'type': 'integer', 'description': 'Internal medical institution identifier for the patient, unique to each individual.'}}}\n",
      "\n"
     ]
    }
   ],
   "source": [
    "user_space.info()"
   ]
  },
  {
   "cell_type": "code",
   "execution_count": 10,
   "metadata": {},
   "outputs": [
    {
     "data": {
      "text/plain": [
       "'Operation successful.'"
      ]
     },
     "execution_count": 10,
     "metadata": {},
     "output_type": "execute_result"
    }
   ],
   "source": [
    "user_space.filter_df('research', 'Gout', True)"
   ]
  },
  {
   "cell_type": "code",
   "execution_count": 11,
   "metadata": {},
   "outputs": [
    {
     "name": "stdout",
     "output_type": "stream",
     "text": [
      "Source: hagstofa\n",
      "Columns: Index(['Name', 'Age', 'Gender', 'Birth Date', 'Kennitala', 'Income', 'Email'], dtype='object')\n",
      "Length: 13308\n",
      "Metadata: {'dataset_name': 'Sample Personal Information Dataset', 'description': 'This dataset contains personal details of individuals, including name, age, gender, birth date, identification number (kennitala), income, and email address.', 'columns': {'Name': {'type': 'string', 'description': 'Full name of the individual, including first and last name.'}, 'Age': {'type': 'float', 'description': 'Age of the individual in years, expressed with decimal precision.'}, 'Gender': {'type': 'string', 'description': 'Gender of the individual (e.g., Male, Female).'}, 'Birth Date': {'type': 'date', 'format': 'YYYY-MM-DD', 'description': 'Birth date of the individual in ISO format.'}, 'Kennitala': {'type': 'string', 'is_standard_unique_identifier': True, 'description': 'Icelandic national identification number for the individual, unique to each person.'}, 'Income': {'type': 'float', 'description': 'Yearly income of the individual in thousands ISK, expressed as a floating-point number.'}, 'Email': {'type': 'string', 'description': 'Email address of the individual.'}}, 'source': 'Hagstofa', 'notes': ['All values are anonymized and randomly generated.', 'Ages are provided with high decimal precision, indicating detailed fractional years.']}\n",
      "\n",
      "Source: medical\n",
      "Columns: Index(['Name', 'Age', 'Gender', 'Birth Date', 'Kennitala', 'Gout', 'Obesity',\n",
      "       'Stress-Related Disorders', 'Cardiovascular Diseases',\n",
      "       'Eating Disorders', 'Addiction', 'Rare Genetic Disease',\n",
      "       'Common Allergies', 'Hereditary Condition', 'patient_id'],\n",
      "      dtype='object')\n",
      "Length: 5000\n",
      "Metadata: {'dataset_name': 'Patient Health Records Dataset', 'description': 'This dataset contains health-related data of patients, including personal details, diagnoses, and health conditions.', 'columns': {'Name': {'type': 'string', 'description': 'Full name of the patient, including first and last name.'}, 'Age': {'type': 'float', 'description': 'Age of the patient in years, expressed with decimal precision.'}, 'Gender': {'type': 'string', 'description': 'Gender of the patient (e.g., Male, Female).'}, 'Birth Date': {'type': 'date', 'format': 'YYYY-MM-DD', 'description': 'Birth date of the patient in ISO format.'}, 'Kennitala': {'type': 'string', 'is_standard_unique_identifier': True, 'description': 'Icelandic national identification number for the patient, unique to each individual.'}, 'Gout': {'type': 'boolean', 'description': 'Indicates whether the patient has been diagnosed with gout (True/False).'}, 'Obesity': {'type': 'boolean', 'description': 'Indicates whether the patient has been diagnosed with obesity (True/False).'}, 'Stress-Related Disorders': {'type': 'boolean', 'description': 'Indicates whether the patient has been diagnosed with stress-related disorders (True/False).'}, 'Cardiovascular Diseases': {'type': 'boolean', 'description': 'Indicates whether the patient has been diagnosed with cardiovascular diseases (True/False).'}, 'Eating Disorders': {'type': 'boolean', 'description': 'Indicates whether the patient has been diagnosed with eating disorders (True/False).'}, 'Addiction': {'type': 'boolean', 'description': 'Indicates whether the patient has been diagnosed with addiction (True/False).'}, 'Rare Genetic Disease': {'type': 'boolean', 'description': 'Indicates whether the patient has been diagnosed with a rare genetic disease (True/False).'}, 'Common Allergies': {'type': 'boolean', 'description': 'Indicates whether the patient has common allergies (True/False).'}, 'Hereditary Condition': {'type': 'boolean', 'description': 'Indicates whether the patient has a hereditary condition (True/False).'}, 'patient_id': {'type': 'integer', 'description': 'Internal medical institution identifier for the patient, unique to each individual.'}}, 'source': 'Medical Institution', 'notes': ['All values are anonymized and randomly generated.', 'Ages are provided with high decimal precision, indicating detailed fractional years.']}\n",
      "\n",
      "Source: research\n",
      "Columns: Index(['Name', 'Age', 'Gender', 'Birth Date', 'Kennitala', 'Gout', 'Obesity',\n",
      "       'Stress-Related Disorders', 'Cardiovascular Diseases',\n",
      "       'Eating Disorders', 'Addiction', 'Rare Genetic Disease',\n",
      "       'Common Allergies', 'Hereditary Condition', 'patient_id'],\n",
      "      dtype='object')\n",
      "Length: 1865\n",
      "Metadata: {'columns': {'Name': {'type': 'string', 'description': 'Full name of the patient, including first and last name.'}, 'Age': {'type': 'float', 'description': 'Age of the patient in years, expressed with decimal precision.'}, 'Gender': {'type': 'string', 'description': 'Gender of the patient (e.g., Male, Female).'}, 'Birth Date': {'type': 'date', 'format': 'YYYY-MM-DD', 'description': 'Birth date of the patient in ISO format.'}, 'Kennitala': {'type': 'string', 'is_standard_unique_identifier': True, 'description': 'Icelandic national identification number for the patient, unique to each individual.'}, 'Gout': {'type': 'boolean', 'description': 'Indicates whether the patient has been diagnosed with gout (True/False).'}, 'Obesity': {'type': 'boolean', 'description': 'Indicates whether the patient has been diagnosed with obesity (True/False).'}, 'Stress-Related Disorders': {'type': 'boolean', 'description': 'Indicates whether the patient has been diagnosed with stress-related disorders (True/False).'}, 'Cardiovascular Diseases': {'type': 'boolean', 'description': 'Indicates whether the patient has been diagnosed with cardiovascular diseases (True/False).'}, 'Eating Disorders': {'type': 'boolean', 'description': 'Indicates whether the patient has been diagnosed with eating disorders (True/False).'}, 'Addiction': {'type': 'boolean', 'description': 'Indicates whether the patient has been diagnosed with addiction (True/False).'}, 'Rare Genetic Disease': {'type': 'boolean', 'description': 'Indicates whether the patient has been diagnosed with a rare genetic disease (True/False).'}, 'Common Allergies': {'type': 'boolean', 'description': 'Indicates whether the patient has common allergies (True/False).'}, 'Hereditary Condition': {'type': 'boolean', 'description': 'Indicates whether the patient has a hereditary condition (True/False).'}, 'patient_id': {'type': 'integer', 'description': 'Internal medical institution identifier for the patient, unique to each individual.'}}}\n",
      "\n"
     ]
    }
   ],
   "source": [
    "user_space.info()"
   ]
  },
  {
   "cell_type": "code",
   "execution_count": 12,
   "metadata": {},
   "outputs": [
    {
     "data": {
      "text/plain": [
       "'Operation successful.'"
      ]
     },
     "execution_count": 12,
     "metadata": {},
     "output_type": "execute_result"
    }
   ],
   "source": [
    "user_space.merge_df('hagstofa', 'research', 'Kennitala', 'merged')"
   ]
  },
  {
   "cell_type": "code",
   "execution_count": 13,
   "metadata": {},
   "outputs": [
    {
     "name": "stdout",
     "output_type": "stream",
     "text": [
      "Source: hagstofa\n",
      "Columns: Index(['Name', 'Age', 'Gender', 'Birth Date', 'Kennitala', 'Income', 'Email'], dtype='object')\n",
      "Length: 13308\n",
      "Metadata: {'dataset_name': 'Sample Personal Information Dataset', 'description': 'This dataset contains personal details of individuals, including name, age, gender, birth date, identification number (kennitala), income, and email address.', 'columns': {'Name': {'type': 'string', 'description': 'Full name of the individual, including first and last name.'}, 'Age': {'type': 'float', 'description': 'Age of the individual in years, expressed with decimal precision.'}, 'Gender': {'type': 'string', 'description': 'Gender of the individual (e.g., Male, Female).'}, 'Birth Date': {'type': 'date', 'format': 'YYYY-MM-DD', 'description': 'Birth date of the individual in ISO format.'}, 'Kennitala': {'type': 'string', 'is_standard_unique_identifier': True, 'description': 'Icelandic national identification number for the individual, unique to each person.'}, 'Income': {'type': 'float', 'description': 'Yearly income of the individual in thousands ISK, expressed as a floating-point number.'}, 'Email': {'type': 'string', 'description': 'Email address of the individual.'}}, 'source': 'Hagstofa', 'notes': ['All values are anonymized and randomly generated.', 'Ages are provided with high decimal precision, indicating detailed fractional years.']}\n",
      "\n",
      "Source: medical\n",
      "Columns: Index(['Name', 'Age', 'Gender', 'Birth Date', 'Kennitala', 'Gout', 'Obesity',\n",
      "       'Stress-Related Disorders', 'Cardiovascular Diseases',\n",
      "       'Eating Disorders', 'Addiction', 'Rare Genetic Disease',\n",
      "       'Common Allergies', 'Hereditary Condition', 'patient_id'],\n",
      "      dtype='object')\n",
      "Length: 5000\n",
      "Metadata: {'dataset_name': 'Patient Health Records Dataset', 'description': 'This dataset contains health-related data of patients, including personal details, diagnoses, and health conditions.', 'columns': {'Name': {'type': 'string', 'description': 'Full name of the patient, including first and last name.'}, 'Age': {'type': 'float', 'description': 'Age of the patient in years, expressed with decimal precision.'}, 'Gender': {'type': 'string', 'description': 'Gender of the patient (e.g., Male, Female).'}, 'Birth Date': {'type': 'date', 'format': 'YYYY-MM-DD', 'description': 'Birth date of the patient in ISO format.'}, 'Kennitala': {'type': 'string', 'is_standard_unique_identifier': True, 'description': 'Icelandic national identification number for the patient, unique to each individual.'}, 'Gout': {'type': 'boolean', 'description': 'Indicates whether the patient has been diagnosed with gout (True/False).'}, 'Obesity': {'type': 'boolean', 'description': 'Indicates whether the patient has been diagnosed with obesity (True/False).'}, 'Stress-Related Disorders': {'type': 'boolean', 'description': 'Indicates whether the patient has been diagnosed with stress-related disorders (True/False).'}, 'Cardiovascular Diseases': {'type': 'boolean', 'description': 'Indicates whether the patient has been diagnosed with cardiovascular diseases (True/False).'}, 'Eating Disorders': {'type': 'boolean', 'description': 'Indicates whether the patient has been diagnosed with eating disorders (True/False).'}, 'Addiction': {'type': 'boolean', 'description': 'Indicates whether the patient has been diagnosed with addiction (True/False).'}, 'Rare Genetic Disease': {'type': 'boolean', 'description': 'Indicates whether the patient has been diagnosed with a rare genetic disease (True/False).'}, 'Common Allergies': {'type': 'boolean', 'description': 'Indicates whether the patient has common allergies (True/False).'}, 'Hereditary Condition': {'type': 'boolean', 'description': 'Indicates whether the patient has a hereditary condition (True/False).'}, 'patient_id': {'type': 'integer', 'description': 'Internal medical institution identifier for the patient, unique to each individual.'}}, 'source': 'Medical Institution', 'notes': ['All values are anonymized and randomly generated.', 'Ages are provided with high decimal precision, indicating detailed fractional years.']}\n",
      "\n",
      "Source: research\n",
      "Columns: Index(['Name', 'Age', 'Gender', 'Birth Date', 'Kennitala', 'Gout', 'Obesity',\n",
      "       'Stress-Related Disorders', 'Cardiovascular Diseases',\n",
      "       'Eating Disorders', 'Addiction', 'Rare Genetic Disease',\n",
      "       'Common Allergies', 'Hereditary Condition', 'patient_id'],\n",
      "      dtype='object')\n",
      "Length: 1865\n",
      "Metadata: {'columns': {'Name': {'type': 'string', 'description': 'Full name of the patient, including first and last name.'}, 'Age': {'type': 'float', 'description': 'Age of the patient in years, expressed with decimal precision.'}, 'Gender': {'type': 'string', 'description': 'Gender of the patient (e.g., Male, Female).'}, 'Birth Date': {'type': 'date', 'format': 'YYYY-MM-DD', 'description': 'Birth date of the patient in ISO format.'}, 'Kennitala': {'type': 'string', 'is_standard_unique_identifier': True, 'description': 'Icelandic national identification number for the patient, unique to each individual.'}, 'Gout': {'type': 'boolean', 'description': 'Indicates whether the patient has been diagnosed with gout (True/False).'}, 'Obesity': {'type': 'boolean', 'description': 'Indicates whether the patient has been diagnosed with obesity (True/False).'}, 'Stress-Related Disorders': {'type': 'boolean', 'description': 'Indicates whether the patient has been diagnosed with stress-related disorders (True/False).'}, 'Cardiovascular Diseases': {'type': 'boolean', 'description': 'Indicates whether the patient has been diagnosed with cardiovascular diseases (True/False).'}, 'Eating Disorders': {'type': 'boolean', 'description': 'Indicates whether the patient has been diagnosed with eating disorders (True/False).'}, 'Addiction': {'type': 'boolean', 'description': 'Indicates whether the patient has been diagnosed with addiction (True/False).'}, 'Rare Genetic Disease': {'type': 'boolean', 'description': 'Indicates whether the patient has been diagnosed with a rare genetic disease (True/False).'}, 'Common Allergies': {'type': 'boolean', 'description': 'Indicates whether the patient has common allergies (True/False).'}, 'Hereditary Condition': {'type': 'boolean', 'description': 'Indicates whether the patient has a hereditary condition (True/False).'}, 'patient_id': {'type': 'integer', 'description': 'Internal medical institution identifier for the patient, unique to each individual.'}}}\n",
      "\n",
      "Source: merged\n",
      "Columns: Index(['Name_x', 'Age_x', 'Gender_x', 'Birth Date_x', 'Kennitala', 'Income',\n",
      "       'Email', 'Name_y', 'Age_y', 'Gender_y', 'Birth Date_y', 'Gout',\n",
      "       'Obesity', 'Stress-Related Disorders', 'Cardiovascular Diseases',\n",
      "       'Eating Disorders', 'Addiction', 'Rare Genetic Disease',\n",
      "       'Common Allergies', 'Hereditary Condition', 'patient_id'],\n",
      "      dtype='object')\n",
      "Length: 1865\n",
      "Metadata: {'columns': {'Name_x': {'type': 'unknown', 'description': 'No metadata found.'}, 'Age_x': {'type': 'unknown', 'description': 'No metadata found.'}, 'Gender_x': {'type': 'unknown', 'description': 'No metadata found.'}, 'Birth Date_x': {'type': 'unknown', 'description': 'No metadata found.'}, 'Kennitala': {'type': 'string', 'is_standard_unique_identifier': True, 'description': 'Icelandic national identification number for the individual, unique to each person.'}, 'Income': {'type': 'float', 'description': 'Yearly income of the individual in thousands ISK, expressed as a floating-point number.'}, 'Email': {'type': 'string', 'description': 'Email address of the individual.'}, 'Name_y': {'type': 'unknown', 'description': 'No metadata found.'}, 'Age_y': {'type': 'unknown', 'description': 'No metadata found.'}, 'Gender_y': {'type': 'unknown', 'description': 'No metadata found.'}, 'Birth Date_y': {'type': 'unknown', 'description': 'No metadata found.'}, 'Gout': {'type': 'boolean', 'description': 'Indicates whether the patient has been diagnosed with gout (True/False).'}, 'Obesity': {'type': 'boolean', 'description': 'Indicates whether the patient has been diagnosed with obesity (True/False).'}, 'Stress-Related Disorders': {'type': 'boolean', 'description': 'Indicates whether the patient has been diagnosed with stress-related disorders (True/False).'}, 'Cardiovascular Diseases': {'type': 'boolean', 'description': 'Indicates whether the patient has been diagnosed with cardiovascular diseases (True/False).'}, 'Eating Disorders': {'type': 'boolean', 'description': 'Indicates whether the patient has been diagnosed with eating disorders (True/False).'}, 'Addiction': {'type': 'boolean', 'description': 'Indicates whether the patient has been diagnosed with addiction (True/False).'}, 'Rare Genetic Disease': {'type': 'boolean', 'description': 'Indicates whether the patient has been diagnosed with a rare genetic disease (True/False).'}, 'Common Allergies': {'type': 'boolean', 'description': 'Indicates whether the patient has common allergies (True/False).'}, 'Hereditary Condition': {'type': 'boolean', 'description': 'Indicates whether the patient has a hereditary condition (True/False).'}, 'patient_id': {'type': 'integer', 'description': 'Internal medical institution identifier for the patient, unique to each individual.'}}}\n",
      "\n"
     ]
    }
   ],
   "source": [
    "user_space.info()"
   ]
  },
  {
   "cell_type": "code",
   "execution_count": 14,
   "metadata": {},
   "outputs": [
    {
     "data": {
      "image/png": "[encoded data removed]",
      "text/plain": [
       "<Figure size 640x480 with 1 Axes>"
      ]
     },
     "metadata": {},
     "output_type": "display_data"
    }
   ],
   "source": [
    "income_bins = np.linspace(0, 20000, 21)  # 20 bins between 0 and 20,000\n",
    "gout_income_distribution = user_space.request_distribution_of(\n",
    "    'merged', 'Income', bin_ranges=income_bins)\n",
    "gout_income_distribution_df = pd.read_json(StringIO(gout_income_distribution))\n",
    "\n",
    "gout_income_distribution_df.plot(x='Bin Range', y='Count', kind='bar')\n",
    "plt.xlabel('Income Range')\n",
    "plt.ylabel('Count')\n",
    "plt.title('Gout Income Distribution')\n",
    "plt.show()"
   ]
  },
  {
   "cell_type": "code",
   "execution_count": 15,
   "metadata": {},
   "outputs": [
    {
     "data": {
      "image/png": "[encoded data removed]",
      "text/plain": [
       "<Figure size 640x480 with 1 Axes>"
      ]
     },
     "metadata": {},
     "output_type": "display_data"
    }
   ],
   "source": [
    "# Normalize the gout income distribution by the full income distribution\n",
    "normalized_gout_income_distribution_df = gout_income_distribution_df.copy()\n",
    "normalized_gout_income_distribution_df['Normalized Count'] = normalized_gout_income_distribution_df['Count'] / \\\n",
    "    full_income_distribution_df['Count']\n",
    "\n",
    "# Plot the normalized gout income distribution\n",
    "normalized_gout_income_distribution_df.plot(\n",
    "    x='Bin Range', y='Normalized Count', kind='bar')\n",
    "plt.xlabel('Income Range')\n",
    "plt.ylabel('Normalized Count')\n",
    "plt.title('Normalized Gout Income Distribution')\n",
    "plt.show()"
   ]
  }
 ],
 "metadata": {
  "kernelspec": {
   "display_name": "private-data-interaction-LmaFhjpX-py3.10",
   "language": "python",
   "name": "python3"
  },
  "language_info": {
   "codemirror_mode": {
    "name": "ipython",
    "version": 3
   },
   "file_extension": ".py",
   "mimetype": "text/x-python",
   "name": "python",
   "nbconvert_exporter": "python",
   "pygments_lexer": "ipython3",
   "version": "3.10.12"
  }
 },
 "nbformat": 4,
 "nbformat_minor": 2
}
